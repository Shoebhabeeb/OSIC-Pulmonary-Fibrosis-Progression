{
 "cells": [
  {
   "cell_type": "code",
   "execution_count": 1,
   "metadata": {
    "scrolled": true
   },
   "outputs": [
    {
     "name": "stdout",
     "output_type": "stream",
     "text": [
      "Collecting pydicom\n",
      "  Downloading pydicom-2.1.1-py3-none-any.whl (1.9 MB)\n",
      "\u001b[K     |████████████████████████████████| 1.9 MB 11.4 MB/s eta 0:00:01\n",
      "\u001b[?25hInstalling collected packages: pydicom\n",
      "Successfully installed pydicom-2.1.1\n",
      "Note: you may need to restart the kernel to use updated packages.\n"
     ]
    }
   ],
   "source": [
    "pip install pydicom"
   ]
  },
  {
   "cell_type": "code",
   "execution_count": 2,
   "metadata": {
    "scrolled": true
   },
   "outputs": [
    {
     "name": "stdout",
     "output_type": "stream",
     "text": [
      "Collecting package metadata (current_repodata.json): done\n",
      "Solving environment: | \n",
      "The environment is inconsistent, please check the package plan carefully\n",
      "The following packages are causing the inconsistency:\n",
      "\n",
      "  - defaults/osx-64::anaconda==2020.02=py37_0\n",
      "failed with initial frozen solve. Retrying with flexible solve.\n",
      "Solving environment: done\n",
      "Collecting package metadata (repodata.json): done\n",
      "Solving environment: | \n",
      "The environment is inconsistent, please check the package plan carefully\n",
      "The following packages are causing the inconsistency:\n",
      "\n",
      "  - defaults/osx-64::anaconda==2020.02=py37_0\n",
      "done\n",
      "\n",
      "## Package Plan ##\n",
      "\n",
      "  environment location: /opt/anaconda3\n",
      "\n",
      "  added / updated specs:\n",
      "    - plotly\n",
      "\n",
      "\n",
      "The following packages will be downloaded:\n",
      "\n",
      "    package                    |            build\n",
      "    ---------------------------|-----------------\n",
      "    _anaconda_depends-2020.02  |           py37_0           6 KB\n",
      "    anaconda-custom            |           py37_1           3 KB\n",
      "    ca-certificates-2020.10.14 |                0         121 KB\n",
      "    certifi-2020.6.20          |     pyhd3eb1b0_3         155 KB\n",
      "    conda-4.9.2                |   py37hecd8cb5_0         2.9 MB\n",
      "    openssl-1.1.1h             |       haf1e3a3_0         2.2 MB\n",
      "    plotly-4.12.0              |     pyhd3eb1b0_0         3.6 MB\n",
      "    retrying-1.3.3             |           py37_2          16 KB\n",
      "    ------------------------------------------------------------\n",
      "                                           Total:         9.0 MB\n",
      "\n",
      "The following NEW packages will be INSTALLED:\n",
      "\n",
      "  _anaconda_depends  pkgs/main/osx-64::_anaconda_depends-2020.02-py37_0\n",
      "  plotly             pkgs/main/noarch::plotly-4.12.0-pyhd3eb1b0_0\n",
      "  retrying           pkgs/main/osx-64::retrying-1.3.3-py37_2\n",
      "  scikit-learn       pkgs/main/osx-64::scikit-learn-0.22.1-py37h27c97d8_0\n",
      "\n",
      "The following packages will be UPDATED:\n",
      "\n",
      "  ca-certificates                                2020.1.1-0 --> 2020.10.14-0\n",
      "  certifi            pkgs/main/osx-64::certifi-2019.11.28-~ --> pkgs/main/noarch::certifi-2020.6.20-pyhd3eb1b0_3\n",
      "  conda                                        4.8.3-py37_0 --> 4.9.2-py37hecd8cb5_0\n",
      "  openssl                                 1.1.1d-h1de35cc_4 --> 1.1.1h-haf1e3a3_0\n",
      "\n",
      "The following packages will be DOWNGRADED:\n",
      "\n",
      "  anaconda                                   2020.02-py37_0 --> custom-py37_1\n",
      "\n",
      "\n",
      "\n",
      "Downloading and Extracting Packages\n",
      "certifi-2020.6.20    | 155 KB    | ##################################### | 100% \n",
      "openssl-1.1.1h       | 2.2 MB    | ##################################### | 100% \n",
      "_anaconda_depends-20 | 6 KB      | ##################################### | 100% \n",
      "ca-certificates-2020 | 121 KB    | ##################################### | 100% \n",
      "anaconda-custom      | 3 KB      | ##################################### | 100% \n",
      "conda-4.9.2          | 2.9 MB    | ##################################### | 100% \n",
      "retrying-1.3.3       | 16 KB     | ##################################### | 100% \n",
      "plotly-4.12.0        | 3.6 MB    | ##################################### | 100% \n",
      "Preparing transaction: done\n",
      "Verifying transaction: done\n",
      "Executing transaction: done\n",
      "\n",
      "Note: you may need to restart the kernel to use updated packages.\n"
     ]
    }
   ],
   "source": [
    "conda install plotly"
   ]
  },
  {
   "cell_type": "code",
   "execution_count": 3,
   "metadata": {
    "scrolled": true
   },
   "outputs": [
    {
     "name": "stdout",
     "output_type": "stream",
     "text": [
      "Collecting package metadata (current_repodata.json): done\n",
      "Solving environment: done\n",
      "\n",
      "# All requested packages already installed.\n",
      "\n",
      "\n",
      "Note: you may need to restart the kernel to use updated packages.\n"
     ]
    }
   ],
   "source": [
    "conda install scikit-image"
   ]
  },
  {
   "cell_type": "code",
   "execution_count": 4,
   "metadata": {},
   "outputs": [
    {
     "data": {
      "text/plain": [
       "['.DS_Store',\n",
       " 'test',\n",
       " 'test.csv',\n",
       " 'train',\n",
       " 'train.csv',\n",
       " 'sample_submission.csv']"
      ]
     },
     "execution_count": 4,
     "metadata": {},
     "output_type": "execute_result"
    }
   ],
   "source": [
    "import pandas as pd\n",
    "from os import listdir\n",
    "\n",
    "basepath = '../osic-pulmonary-fibrosis-progression/'\n",
    "listdir(basepath)"
   ]
  },
  {
   "cell_type": "code",
   "execution_count": 5,
   "metadata": {},
   "outputs": [],
   "source": [
    "train = pd.read_csv(basepath + 'train.csv')\n",
    "test = pd.read_csv(basepath + 'test.csv')"
   ]
  },
  {
   "cell_type": "code",
   "execution_count": 9,
   "metadata": {},
   "outputs": [
    {
     "name": "stdout",
     "output_type": "stream",
     "text": [
      "Total Recordings in Train Data: 1,549\n",
      "Total Recordings in Test Data: 5\n"
     ]
    }
   ],
   "source": [
    "print(\"Total Recordings in Train Data: {:,}\".format(train.shape[0]))\n",
    "print(\"Total Recordings in Test Data: {:,}\".format(test.shape[0]))"
   ]
  },
  {
   "cell_type": "code",
   "execution_count": 11,
   "metadata": {},
   "outputs": [
    {
     "data": {
      "text/html": [
       "<div>\n",
       "<style scoped>\n",
       "    .dataframe tbody tr th:only-of-type {\n",
       "        vertical-align: middle;\n",
       "    }\n",
       "\n",
       "    .dataframe tbody tr th {\n",
       "        vertical-align: top;\n",
       "    }\n",
       "\n",
       "    .dataframe thead th {\n",
       "        text-align: right;\n",
       "    }\n",
       "</style>\n",
       "<table border=\"1\" class=\"dataframe\">\n",
       "  <thead>\n",
       "    <tr style=\"text-align: right;\">\n",
       "      <th></th>\n",
       "      <th>Patient</th>\n",
       "      <th>Weeks</th>\n",
       "      <th>FVC</th>\n",
       "      <th>Percent</th>\n",
       "      <th>Age</th>\n",
       "      <th>Sex</th>\n",
       "      <th>SmokingStatus</th>\n",
       "    </tr>\n",
       "  </thead>\n",
       "  <tbody>\n",
       "    <tr>\n",
       "      <th>0</th>\n",
       "      <td>ID00007637202177411956430</td>\n",
       "      <td>-4</td>\n",
       "      <td>2315</td>\n",
       "      <td>58.253649</td>\n",
       "      <td>79</td>\n",
       "      <td>Male</td>\n",
       "      <td>Ex-smoker</td>\n",
       "    </tr>\n",
       "    <tr>\n",
       "      <th>1</th>\n",
       "      <td>ID00007637202177411956430</td>\n",
       "      <td>5</td>\n",
       "      <td>2214</td>\n",
       "      <td>55.712129</td>\n",
       "      <td>79</td>\n",
       "      <td>Male</td>\n",
       "      <td>Ex-smoker</td>\n",
       "    </tr>\n",
       "    <tr>\n",
       "      <th>2</th>\n",
       "      <td>ID00007637202177411956430</td>\n",
       "      <td>7</td>\n",
       "      <td>2061</td>\n",
       "      <td>51.862104</td>\n",
       "      <td>79</td>\n",
       "      <td>Male</td>\n",
       "      <td>Ex-smoker</td>\n",
       "    </tr>\n",
       "    <tr>\n",
       "      <th>3</th>\n",
       "      <td>ID00007637202177411956430</td>\n",
       "      <td>9</td>\n",
       "      <td>2144</td>\n",
       "      <td>53.950679</td>\n",
       "      <td>79</td>\n",
       "      <td>Male</td>\n",
       "      <td>Ex-smoker</td>\n",
       "    </tr>\n",
       "    <tr>\n",
       "      <th>4</th>\n",
       "      <td>ID00007637202177411956430</td>\n",
       "      <td>11</td>\n",
       "      <td>2069</td>\n",
       "      <td>52.063412</td>\n",
       "      <td>79</td>\n",
       "      <td>Male</td>\n",
       "      <td>Ex-smoker</td>\n",
       "    </tr>\n",
       "  </tbody>\n",
       "</table>\n",
       "</div>"
      ],
      "text/plain": [
       "                     Patient  Weeks   FVC    Percent  Age   Sex SmokingStatus\n",
       "0  ID00007637202177411956430     -4  2315  58.253649   79  Male     Ex-smoker\n",
       "1  ID00007637202177411956430      5  2214  55.712129   79  Male     Ex-smoker\n",
       "2  ID00007637202177411956430      7  2061  51.862104   79  Male     Ex-smoker\n",
       "3  ID00007637202177411956430      9  2144  53.950679   79  Male     Ex-smoker\n",
       "4  ID00007637202177411956430     11  2069  52.063412   79  Male     Ex-smoker"
      ]
     },
     "execution_count": 11,
     "metadata": {},
     "output_type": "execute_result"
    }
   ],
   "source": [
    "train.head()"
   ]
  },
  {
   "cell_type": "code",
   "execution_count": 21,
   "metadata": {},
   "outputs": [
    {
     "data": {
      "image/png": "[encoded data removed]",
      "text/plain": [
       "<Figure size 504x72 with 1 Axes>"
      ]
     },
     "metadata": {
      "needs_background": "light"
     },
     "output_type": "display_data"
    }
   ],
   "source": [
    "import seaborn as sns\n",
    "import matplotlib.pyplot as plt\n",
    "custom_colors = ['#327f8f','#57bacf','#87d5e6','#987ddb','#7257b5','#873bad', '#ad3b9e']\n",
    "sns.palplot(sns.color_palette(custom_colors))"
   ]
  },
  {
   "cell_type": "code",
   "execution_count": 27,
   "metadata": {},
   "outputs": [
    {
     "data": {
      "image/png": "[encoded data removed]",
      "text/plain": [
       "<Figure size 1152x288 with 3 Axes>"
      ]
     },
     "metadata": {
      "needs_background": "light"
     },
     "output_type": "display_data"
    }
   ],
   "source": [
    "# Figure\n",
    "f, (ax1, ax2, ax3) = plt.subplots(1, 3, figsize = (16, 4))\n",
    "\n",
    "f1 = sns.distplot(train[\"Age\"], ax=ax1, color=custom_colors[1], hist=False, kde_kws=dict(lw=6, ls=\"-\"))\n",
    "f2 = sns.countplot(train[\"Sex\"], ax=ax2, palette=custom_colors[2:4])\n",
    "f3 = sns.countplot(train[\"SmokingStatus\"], ax=ax3, palette = custom_colors[4:7])\n",
    "\n",
    "f1.set_title(\"Patient Age Distribution\", fontsize=16)\n",
    "f2.set_title(\"Sex Frequency\", fontsize=16)\n",
    "f3.set_title(\"Smoking Status\", fontsize=16);"
   ]
  },
  {
   "cell_type": "code",
   "execution_count": null,
   "metadata": {},
   "outputs": [],
   "source": [
    "def load_scans(dcm_path):\n",
    "    files = listdir(dcm_path)\n",
    "    file_nums = [np.int(file.split(\".\")[0]) for file in files]\n",
    "    sorted_file_nums = np.sort(file_nums)[::-1]\n",
    "    slices = [pydicom.dcmread(dcm_path + \"/\" + str(file_num) + \".dcm\" ) for file_num in sorted_file_nums]\n",
    "    return slices"
   ]
  },
  {
   "cell_type": "code",
   "execution_count": 91,
   "metadata": {},
   "outputs": [],
   "source": [
    "from glob import glob\n",
    "import dicom\n",
    "import os\n",
    "import pydicom\n",
    "import numpy as np\n",
    "import scipy.ndimage\n",
    "from skimage import morphology\n",
    "from skimage import measure\n",
    "from skimage.transform import resize\n",
    "from sklearn.cluster import KMeans\n",
    "from plotly import __version__\n",
    "from plotly.offline import download_plotlyjs, init_notebook_mode, plot, iplot\n",
    "from plotly.tools import FigureFactory as FF"
   ]
  },
  {
   "cell_type": "code",
   "execution_count": 40,
   "metadata": {},
   "outputs": [],
   "source": [
    "data_path = \"/Users/annie/Desktop/CSC 8850 Advan Machine Learning/osic-pulmonary-fibrosis-progression/train/\""
   ]
  },
  {
   "cell_type": "code",
   "execution_count": 41,
   "metadata": {},
   "outputs": [
    {
     "data": {
      "text/plain": [
       "['ID00296637202279895784347',\n",
       " 'ID00032637202181710233084',\n",
       " 'ID00061637202188184085559',\n",
       " 'ID00232637202260377586117',\n",
       " 'ID00322637202284842245491',\n",
       " 'ID00329637202285906759848',\n",
       " 'ID00027637202179689871102',\n",
       " 'ID00011637202177653955184',\n",
       " 'ID00042637202184406822975',\n",
       " 'ID00086637202203494931510',\n",
       " 'ID00023637202179104603099',\n",
       " 'ID00235637202261451839085',\n",
       " 'ID00168637202237852027833',\n",
       " 'ID00078637202199415319443',\n",
       " 'ID00331637202286306023714',\n",
       " 'ID00312637202282607344793',\n",
       " 'ID00283637202278714365037',\n",
       " 'ID00365637202296085035729',\n",
       " 'ID00414637202310318891556',\n",
       " 'ID00267637202270790561585',\n",
       " 'ID00400637202305055099402',\n",
       " 'ID00076637202199015035026',\n",
       " 'ID00173637202238329754031',\n",
       " 'ID00192637202245493238298',\n",
       " 'ID00364637202296074419422',\n",
       " 'ID00180637202240177410333',\n",
       " 'ID00132637202222178761324',\n",
       " 'ID00048637202185016727717',\n",
       " 'ID00407637202308788732304',\n",
       " 'ID00426637202313170790466',\n",
       " 'ID00167637202237397919352',\n",
       " 'ID00136637202224951350618',\n",
       " 'ID00305637202281772703145',\n",
       " '.DS_Store',\n",
       " 'ID00291637202279398396106',\n",
       " 'ID00298637202280361773446',\n",
       " 'ID00393637202302431697467',\n",
       " 'ID00051637202185848464638',\n",
       " 'ID00129637202219868188000',\n",
       " 'ID00184637202242062969203',\n",
       " 'ID00068637202190879923934',\n",
       " 'ID00014637202177757139317',\n",
       " 'ID00093637202205278167493',\n",
       " 'ID00376637202297677828573',\n",
       " 'ID00047637202184938901501',\n",
       " 'ID00052637202186188008618',\n",
       " 'ID00117637202212360228007',\n",
       " 'ID00317637202283194142136',\n",
       " 'ID00299637202280383305867',\n",
       " 'ID00104637202208063407045',\n",
       " 'ID00138637202231603868088',\n",
       " 'ID00122637202216437668965',\n",
       " 'ID00417637202310901214011',\n",
       " 'ID00111637202210956877205',\n",
       " 'ID00337637202286839091062',\n",
       " 'ID00367637202296290303449',\n",
       " 'ID00139637202231703564336',\n",
       " 'ID00186637202242472088675',\n",
       " 'ID00202637202249376026949',\n",
       " 'ID00199637202248141386743',\n",
       " 'ID00172637202238316925179',\n",
       " 'ID00219637202258203123958',\n",
       " 'ID00228637202259965313869',\n",
       " 'ID00161637202235731948764',\n",
       " 'ID00344637202287684217717',\n",
       " 'ID00371637202296828615743',\n",
       " 'ID00335637202286784464927',\n",
       " 'ID00419637202311204720264',\n",
       " 'ID00134637202223873059688',\n",
       " 'ID00169637202238024117706',\n",
       " 'ID00401637202305320178010',\n",
       " 'ID00307637202282126172865',\n",
       " 'ID00207637202252526380974',\n",
       " 'ID00216637202257988213445',\n",
       " 'ID00102637202206574119190',\n",
       " 'ID00126637202218610655908',\n",
       " 'ID00019637202178323708467',\n",
       " 'ID00249637202266730854017',\n",
       " 'ID00241637202264294508775',\n",
       " 'ID00423637202312137826377',\n",
       " 'ID00381637202299644114027',\n",
       " 'ID00062637202188654068490',\n",
       " 'ID00351637202289476567312',\n",
       " 'ID00233637202260580149633',\n",
       " 'ID00392637202302319160044',\n",
       " 'ID00275637202271440119890',\n",
       " 'ID00358637202295388077032',\n",
       " 'ID00072637202198161894406',\n",
       " 'ID00323637202285211956970',\n",
       " 'ID00378637202298597306391',\n",
       " 'ID00094637202205333947361',\n",
       " 'ID00279637202272164826258',\n",
       " 'ID00360637202295712204040',\n",
       " 'ID00240637202264138860065',\n",
       " 'ID00077637202199102000916',\n",
       " 'ID00115637202211874187958',\n",
       " 'ID00383637202300493233675',\n",
       " 'ID00355637202295106567614',\n",
       " 'ID00405637202308359492977',\n",
       " 'ID00015637202177877247924',\n",
       " 'ID00025637202179541264076',\n",
       " 'ID00089637202204675567570',\n",
       " 'ID00221637202258717315571',\n",
       " 'ID00197637202246865691526',\n",
       " 'ID00125637202218590429387',\n",
       " 'ID00135637202224630271439',\n",
       " 'ID00342637202287526592911',\n",
       " 'ID00251637202267455595113',\n",
       " 'ID00336637202286801879145',\n",
       " 'ID00210637202257228694086',\n",
       " 'ID00128637202219474716089',\n",
       " 'ID00339637202287377736231',\n",
       " 'ID00224637202259281193413',\n",
       " 'ID00242637202264759739921',\n",
       " 'ID00343637202287577133798',\n",
       " 'ID00130637202220059448013',\n",
       " 'ID00123637202217151272140',\n",
       " 'ID00218637202258156844710',\n",
       " 'ID00225637202259339837603',\n",
       " 'ID00294637202279614924243',\n",
       " 'ID00341637202287410878488',\n",
       " 'ID00222637202259066229764',\n",
       " 'ID00422637202311677017371',\n",
       " 'ID00105637202208831864134',\n",
       " 'ID00038637202182690843176',\n",
       " 'ID00012637202177665765362',\n",
       " 'ID00264637202270643353440',\n",
       " 'ID00149637202232704462834',\n",
       " 'ID00026637202179561894768',\n",
       " 'ID00060637202187965290703',\n",
       " 'ID00229637202260254240583',\n",
       " 'ID00140637202231728595149',\n",
       " 'ID00007637202177411956430',\n",
       " 'ID00020637202178344345685',\n",
       " 'ID00370637202296737666151',\n",
       " 'ID00309637202282195513787',\n",
       " 'ID00248637202266698862378',\n",
       " 'ID00131637202220424084844',\n",
       " 'ID00288637202279148973731',\n",
       " 'ID00368637202296470751086',\n",
       " 'ID00109637202210454292264',\n",
       " 'ID00290637202279304677843',\n",
       " 'ID00010637202177584971671',\n",
       " 'ID00183637202241995351650',\n",
       " 'ID00035637202182204917484',\n",
       " 'ID00234637202261078001846',\n",
       " 'ID00082637202201836229724',\n",
       " 'ID00213637202257692916109',\n",
       " 'ID00127637202219096738943',\n",
       " 'ID00273637202271319294586',\n",
       " 'ID00099637202206203080121',\n",
       " 'ID00411637202309374271828',\n",
       " 'ID00398637202303897337979',\n",
       " 'ID00421637202311550012437',\n",
       " 'ID00190637202244450116191',\n",
       " 'ID00276637202271694539978',\n",
       " 'ID00110637202210673668310',\n",
       " 'ID00255637202267923028520',\n",
       " 'ID00075637202198610425520',\n",
       " 'ID00340637202287399835821',\n",
       " 'ID00133637202223847701934',\n",
       " 'ID00090637202204766623410',\n",
       " 'ID00408637202308839708961',\n",
       " 'ID00073637202198167792918',\n",
       " 'ID00030637202181211009029',\n",
       " 'ID00388637202301028491611',\n",
       " 'ID00124637202217596410344',\n",
       " 'ID00165637202237320314458',\n",
       " 'ID00119637202215426335765',\n",
       " 'ID00170637202238079193844',\n",
       " 'ID00319637202283897208687',\n",
       " 'ID00196637202246668775836',\n",
       " 'ID00285637202278913507108',\n",
       " 'ID00067637202189903532242',\n",
       " 'ID00214637202257820847190',\n",
       " 'ID00009637202177434476278',\n",
       " 'ID00108637202209619669361']"
      ]
     },
     "execution_count": 41,
     "metadata": {},
     "output_type": "execute_result"
    }
   ],
   "source": [
    "# Each patient has a directory of scans\n",
    "patients = os.listdir(data_path)\n",
    "patients"
   ]
  },
  {
   "cell_type": "code",
   "execution_count": 70,
   "metadata": {
    "scrolled": true
   },
   "outputs": [
    {
     "data": {
      "text/plain": [
       "['/Users/annie/Desktop/CSC 8850 Advan Machine Learning/osic-pulmonary-fibrosis-progression/train/ID00296637202279895784347/16.dcm',\n",
       " '/Users/annie/Desktop/CSC 8850 Advan Machine Learning/osic-pulmonary-fibrosis-progression/train/ID00296637202279895784347/17.dcm',\n",
       " '/Users/annie/Desktop/CSC 8850 Advan Machine Learning/osic-pulmonary-fibrosis-progression/train/ID00296637202279895784347/15.dcm',\n",
       " '/Users/annie/Desktop/CSC 8850 Advan Machine Learning/osic-pulmonary-fibrosis-progression/train/ID00296637202279895784347/29.dcm',\n",
       " '/Users/annie/Desktop/CSC 8850 Advan Machine Learning/osic-pulmonary-fibrosis-progression/train/ID00296637202279895784347/28.dcm',\n",
       " '/Users/annie/Desktop/CSC 8850 Advan Machine Learning/osic-pulmonary-fibrosis-progression/train/ID00296637202279895784347/14.dcm',\n",
       " '/Users/annie/Desktop/CSC 8850 Advan Machine Learning/osic-pulmonary-fibrosis-progression/train/ID00296637202279895784347/10.dcm',\n",
       " '/Users/annie/Desktop/CSC 8850 Advan Machine Learning/osic-pulmonary-fibrosis-progression/train/ID00296637202279895784347/11.dcm',\n",
       " '/Users/annie/Desktop/CSC 8850 Advan Machine Learning/osic-pulmonary-fibrosis-progression/train/ID00296637202279895784347/13.dcm',\n",
       " '/Users/annie/Desktop/CSC 8850 Advan Machine Learning/osic-pulmonary-fibrosis-progression/train/ID00296637202279895784347/12.dcm',\n",
       " '/Users/annie/Desktop/CSC 8850 Advan Machine Learning/osic-pulmonary-fibrosis-progression/train/ID00296637202279895784347/9.dcm',\n",
       " '/Users/annie/Desktop/CSC 8850 Advan Machine Learning/osic-pulmonary-fibrosis-progression/train/ID00296637202279895784347/8.dcm',\n",
       " '/Users/annie/Desktop/CSC 8850 Advan Machine Learning/osic-pulmonary-fibrosis-progression/train/ID00296637202279895784347/6.dcm',\n",
       " '/Users/annie/Desktop/CSC 8850 Advan Machine Learning/osic-pulmonary-fibrosis-progression/train/ID00296637202279895784347/7.dcm',\n",
       " '/Users/annie/Desktop/CSC 8850 Advan Machine Learning/osic-pulmonary-fibrosis-progression/train/ID00296637202279895784347/5.dcm',\n",
       " '/Users/annie/Desktop/CSC 8850 Advan Machine Learning/osic-pulmonary-fibrosis-progression/train/ID00296637202279895784347/4.dcm',\n",
       " '/Users/annie/Desktop/CSC 8850 Advan Machine Learning/osic-pulmonary-fibrosis-progression/train/ID00296637202279895784347/1.dcm',\n",
       " '/Users/annie/Desktop/CSC 8850 Advan Machine Learning/osic-pulmonary-fibrosis-progression/train/ID00296637202279895784347/3.dcm',\n",
       " '/Users/annie/Desktop/CSC 8850 Advan Machine Learning/osic-pulmonary-fibrosis-progression/train/ID00296637202279895784347/2.dcm',\n",
       " '/Users/annie/Desktop/CSC 8850 Advan Machine Learning/osic-pulmonary-fibrosis-progression/train/ID00296637202279895784347/23.dcm',\n",
       " '/Users/annie/Desktop/CSC 8850 Advan Machine Learning/osic-pulmonary-fibrosis-progression/train/ID00296637202279895784347/22.dcm',\n",
       " '/Users/annie/Desktop/CSC 8850 Advan Machine Learning/osic-pulmonary-fibrosis-progression/train/ID00296637202279895784347/20.dcm',\n",
       " '/Users/annie/Desktop/CSC 8850 Advan Machine Learning/osic-pulmonary-fibrosis-progression/train/ID00296637202279895784347/21.dcm',\n",
       " '/Users/annie/Desktop/CSC 8850 Advan Machine Learning/osic-pulmonary-fibrosis-progression/train/ID00296637202279895784347/19.dcm',\n",
       " '/Users/annie/Desktop/CSC 8850 Advan Machine Learning/osic-pulmonary-fibrosis-progression/train/ID00296637202279895784347/31.dcm',\n",
       " '/Users/annie/Desktop/CSC 8850 Advan Machine Learning/osic-pulmonary-fibrosis-progression/train/ID00296637202279895784347/25.dcm',\n",
       " '/Users/annie/Desktop/CSC 8850 Advan Machine Learning/osic-pulmonary-fibrosis-progression/train/ID00296637202279895784347/24.dcm',\n",
       " '/Users/annie/Desktop/CSC 8850 Advan Machine Learning/osic-pulmonary-fibrosis-progression/train/ID00296637202279895784347/30.dcm',\n",
       " '/Users/annie/Desktop/CSC 8850 Advan Machine Learning/osic-pulmonary-fibrosis-progression/train/ID00296637202279895784347/18.dcm',\n",
       " '/Users/annie/Desktop/CSC 8850 Advan Machine Learning/osic-pulmonary-fibrosis-progression/train/ID00296637202279895784347/26.dcm',\n",
       " '/Users/annie/Desktop/CSC 8850 Advan Machine Learning/osic-pulmonary-fibrosis-progression/train/ID00296637202279895784347/27.dcm']"
      ]
     },
     "execution_count": 70,
     "metadata": {},
     "output_type": "execute_result"
    }
   ],
   "source": [
    "output_path = \"../osic-pulmonary-fibrosis-progression/output_dicom/\"\n",
    "g = glob(data_path + patients[0] + '/*.dcm')\n",
    "g"
   ]
  },
  {
   "cell_type": "code",
   "execution_count": 58,
   "metadata": {},
   "outputs": [],
   "source": [
    "def load_scan(path):\n",
    "    slices = [pydicom.read_file(s) for s in glob(data_path + patients[0] + '/*.dcm')]\n",
    "    slices.sort(key = lambda x: int(x.InstanceNumber))\n",
    "    try:\n",
    "        slice_thickness = np.abs(slices[0].ImagePositionPatient[2] - slices[1].ImagePositionPatient[2])\n",
    "    except:\n",
    "        slice_thickness = np.abs(slices[0].SliceLocation - slices[1].SliceLocation)\n",
    "        \n",
    "    for s in slices:\n",
    "        s.SliceThickness = slice_thickness\n",
    "        \n",
    "    return slices"
   ]
  },
  {
   "cell_type": "code",
   "execution_count": 59,
   "metadata": {},
   "outputs": [],
   "source": [
    "def get_pixels_hu(scans):\n",
    "    image = np.stack([s.pixel_array for s in scans])\n",
    "    # Convert to int16 (from sometimes int16), \n",
    "    # should be possible as values should always be low enough (<32k)\n",
    "    image = image.astype(np.int16)\n",
    "\n",
    "    # Set outside-of-scan pixels to 1\n",
    "    # The intercept is usually -1024, so air is approximately 0\n",
    "    image[image == -2000] = 0\n",
    "    \n",
    "    # Convert to Hounsfield units (HU)\n",
    "    intercept = scans[0].RescaleIntercept\n",
    "    slope = scans[0].RescaleSlope\n",
    "    \n",
    "    if slope != 1:\n",
    "        image = slope * image.astype(np.float64)\n",
    "        image = image.astype(np.int16)\n",
    "        \n",
    "    image += np.int16(intercept)\n",
    "    \n",
    "    return np.array(image, dtype=np.int16)"
   ]
  },
  {
   "cell_type": "code",
   "execution_count": 60,
   "metadata": {},
   "outputs": [
    {
     "data": {
      "text/plain": [
       "'ID00296637202279895784347'"
      ]
     },
     "execution_count": 60,
     "metadata": {},
     "output_type": "execute_result"
    }
   ],
   "source": [
    "id_num = patients[0]\n",
    "id_num"
   ]
  },
  {
   "cell_type": "code",
   "execution_count": 63,
   "metadata": {},
   "outputs": [],
   "source": [
    "id = 0\n",
    "patient = load_scan(data_path)\n",
    "imgs = get_pixels_hu(patient)"
   ]
  },
  {
   "cell_type": "code",
   "execution_count": 71,
   "metadata": {},
   "outputs": [],
   "source": [
    "np.save(output_path + \"fullimages_%d.npy\" % (id), imgs)"
   ]
  },
  {
   "cell_type": "code",
   "execution_count": 83,
   "metadata": {},
   "outputs": [
    {
     "name": "stdout",
     "output_type": "stream",
     "text": [
      "[Errno 20] Not a directory: '../osic-pulmonary-fibrosis-progression/output_dicom/.DS_Store/'\n"
     ]
    }
   ],
   "source": [
    "failed_to_process = []\n",
    "for id_num in patients:\n",
    "    try:\n",
    "        scan_path = data_path + id_num\n",
    "        patient = load_scan(scan_path)\n",
    "        imgs = get_pixels_hu(patient)\n",
    "        if not os.path.exists(output_path + id_num + \"/\"):\n",
    "            os.makedirs(output_path + id_num + \"/\")\n",
    "        save_to = output_path + id_num + \"/\" + \"fullimages_%d.npy\" % (id)\n",
    "        id +=1\n",
    "        np.save(save_to, imgs)\n",
    "    except Exception as e: \n",
    "        print(e)\n",
    "        failed_to_process.append(id_num)"
   ]
  },
  {
   "cell_type": "code",
   "execution_count": 84,
   "metadata": {},
   "outputs": [
    {
     "data": {
      "text/plain": [
       "['.DS_Store']"
      ]
     },
     "execution_count": 84,
     "metadata": {},
     "output_type": "execute_result"
    }
   ],
   "source": [
    "#.DS_Store can be ignored\n",
    "failed_to_process"
   ]
  },
  {
   "cell_type": "code",
   "execution_count": 78,
   "metadata": {},
   "outputs": [],
   "source": [
    "example_img = \"../osic-pulmonary-fibrosis-progression/output_dicom/ID00296637202279895784347/fullimages_0.npy\""
   ]
  },
  {
   "cell_type": "code",
   "execution_count": 79,
   "metadata": {},
   "outputs": [],
   "source": [
    "file_used = example_img\n",
    "imgs_to_process = np.load(file_used).astype(np.float64) "
   ]
  },
  {
   "cell_type": "code",
   "execution_count": 80,
   "metadata": {},
   "outputs": [
    {
     "data": {
      "text/plain": [
       "(31, 512, 512)"
      ]
     },
     "execution_count": 80,
     "metadata": {},
     "output_type": "execute_result"
    }
   ],
   "source": [
    "imgs_to_process.shape"
   ]
  },
  {
   "cell_type": "code",
   "execution_count": 85,
   "metadata": {},
   "outputs": [],
   "source": [
    "id = 0\n",
    "imgs_to_process = np.load(output_path+'ID00296637202279895784347/fullimages_{}.npy'.format(id))\n",
    "\n",
    "def sample_stack(stack, rows=6, cols=6, start_with=10, show_every=3):\n",
    "    fig,ax = plt.subplots(rows,cols,figsize=[12,12])\n",
    "    for i in range(rows*cols):\n",
    "        ind = start_with + i*show_every\n",
    "        ax[int(i/rows),int(i % rows)].set_title('slice %d' % ind)\n",
    "        ax[int(i/rows),int(i % rows)].imshow(stack[ind],cmap='gray')\n",
    "        ax[int(i/rows),int(i % rows)].axis('off')\n",
    "    plt.show()\n",
    "\n",
    "#sample_stack(imgs_to_process)"
   ]
  },
  {
   "cell_type": "code",
   "execution_count": 86,
   "metadata": {},
   "outputs": [],
   "source": [
    "def resample(image, scan, new_spacing=[1,1,1]):\n",
    "    # Determine current pixel spacing\n",
    "    # made a change here, casting these two things to list. didn't check to see if it was\n",
    "    # the right thing to do\n",
    "    spacing = map(float, (list([scan[0].SliceThickness]) + list(scan[0].PixelSpacing)))\n",
    "    spacing = np.array(list(spacing))\n",
    "\n",
    "    resize_factor = spacing / new_spacing\n",
    "    new_real_shape = image.shape * resize_factor\n",
    "    new_shape = np.round(new_real_shape)\n",
    "    real_resize_factor = new_shape / image.shape\n",
    "    new_spacing = spacing / real_resize_factor\n",
    "    \n",
    "    image = scipy.ndimage.interpolation.zoom(image, real_resize_factor)\n",
    "    \n",
    "    return image, new_spacing"
   ]
  },
  {
   "cell_type": "code",
   "execution_count": 87,
   "metadata": {},
   "outputs": [],
   "source": [
    "#Standardize the pixel values\n",
    "def make_lungmask(img, display=False):\n",
    "    row_size= img.shape[0]\n",
    "    col_size = img.shape[1]\n",
    "    \n",
    "    mean = np.mean(img)\n",
    "    std = np.std(img)\n",
    "    img = img-mean\n",
    "    img = img/std\n",
    "    # Find the average pixel value near the lungs\n",
    "    # to renormalize washed out images\n",
    "    middle = img[int(col_size/5):int(col_size/5*4),int(row_size/5):int(row_size/5*4)] \n",
    "    mean = np.mean(middle)  \n",
    "    max = np.max(img)\n",
    "    min = np.min(img)\n",
    "    # To improve threshold finding, I'm moving the \n",
    "    # underflow and overflow on the pixel spectrum\n",
    "    img[img==max]=mean\n",
    "    img[img==min]=mean\n",
    "    #\n",
    "    # Using Kmeans to separate foreground (soft tissue / bone) and background (lung/air)\n",
    "    #\n",
    "    kmeans = KMeans(n_clusters=2).fit(np.reshape(middle,[np.prod(middle.shape),1]))\n",
    "    centers = sorted(kmeans.cluster_centers_.flatten())\n",
    "    threshold = np.mean(centers)\n",
    "    thresh_img = np.where(img<threshold,1.0,0.0)  # threshold the image\n",
    "\n",
    "    # First erode away the finer elements, then dilate to include some of the pixels surrounding the lung.  \n",
    "    # We don't want to accidentally clip the lung.\n",
    "\n",
    "    eroded = morphology.erosion(thresh_img,np.ones([3,3]))\n",
    "    dilation = morphology.dilation(eroded,np.ones([8,8]))\n",
    "\n",
    "    labels = measure.label(dilation) # Different labels are displayed in different colors\n",
    "    label_vals = np.unique(labels)\n",
    "    regions = measure.regionprops(labels)\n",
    "    good_labels = []\n",
    "    for prop in regions:\n",
    "        B = prop.bbox\n",
    "        if B[2]-B[0]<row_size/10*9 and B[3]-B[1]<col_size/10*9 and B[0]>row_size/5 and B[2]<col_size/5*4:\n",
    "            good_labels.append(prop.label)\n",
    "    mask = np.ndarray([row_size,col_size],dtype=np.int8)\n",
    "    mask[:] = 0\n",
    "    \n",
    "    #\n",
    "    #  After just the lungs are left, we do another large dilation\n",
    "    #  in order to fill in and out the lung mask \n",
    "    #\n",
    "    for N in good_labels:\n",
    "        mask = mask + np.where(labels==N,1,0)\n",
    "    mask = morphology.dilation(mask,np.ones([10,10])) # one last dilation\n",
    "    \n",
    "    return mask*img"
   ]
  },
  {
   "cell_type": "code",
   "execution_count": 89,
   "metadata": {},
   "outputs": [],
   "source": [
    "patients_to_process = os.listdir(\"../osic-pulmonary-fibrosis-progression/output_dicom/\")\n",
    "hu_images = \"../osic-pulmonary-fibrosis-progression/output_dicom/\""
   ]
  },
  {
   "cell_type": "code",
   "execution_count": 92,
   "metadata": {},
   "outputs": [
    {
     "name": "stdout",
     "output_type": "stream",
     "text": [
      "Shape before resampling\t (31, 512, 512)\n",
      "Shape after resampling\t (310, 366, 366)\n",
      "Shape before resampling\t (31, 512, 512)\n",
      "Shape after resampling\t (310, 366, 366)\n",
      "Shape before resampling\t (31, 512, 512)\n",
      "Shape after resampling\t (310, 366, 366)\n",
      "Shape before resampling\t (31, 512, 512)\n",
      "Shape after resampling\t (310, 366, 366)\n",
      "Shape before resampling\t (31, 512, 512)\n",
      "Shape after resampling\t (310, 366, 366)\n",
      "Shape before resampling\t (31, 512, 512)\n",
      "Shape after resampling\t (310, 366, 366)\n",
      "Shape before resampling\t (31, 512, 512)\n",
      "Shape after resampling\t (310, 366, 366)\n",
      "Shape before resampling\t (31, 512, 512)\n",
      "Shape after resampling\t (310, 366, 366)\n",
      "Shape before resampling\t (31, 512, 512)\n",
      "Shape after resampling\t (310, 366, 366)\n",
      "Shape before resampling\t (31, 512, 512)\n",
      "Shape after resampling\t (310, 366, 366)\n",
      "Shape before resampling\t (31, 512, 512)\n",
      "Shape after resampling\t (310, 366, 366)\n",
      "Shape before resampling\t (31, 512, 512)\n",
      "Shape after resampling\t (310, 366, 366)\n",
      "Shape before resampling\t (31, 512, 512)\n",
      "Shape after resampling\t (310, 366, 366)\n",
      "Shape before resampling\t (31, 512, 512)\n",
      "Shape after resampling\t (310, 366, 366)\n",
      "Shape before resampling\t (31, 512, 512)\n",
      "Shape after resampling\t (310, 366, 366)\n",
      "Shape before resampling\t (31, 512, 512)\n",
      "Shape after resampling\t (310, 366, 366)\n",
      "Shape before resampling\t (31, 512, 512)\n",
      "Shape after resampling\t (310, 366, 366)\n",
      "Shape before resampling\t (31, 512, 512)\n",
      "Shape after resampling\t (310, 366, 366)\n",
      "Shape before resampling\t (31, 512, 512)\n",
      "Shape after resampling\t (310, 366, 366)\n",
      "Shape before resampling\t (31, 512, 512)\n",
      "Shape after resampling\t (310, 366, 366)\n",
      "Shape before resampling\t (31, 512, 512)\n",
      "Shape after resampling\t (310, 366, 366)\n",
      "Shape before resampling\t (31, 512, 512)\n",
      "Shape after resampling\t (310, 366, 366)\n",
      "Shape before resampling\t (31, 512, 512)\n",
      "Shape after resampling\t (310, 366, 366)\n",
      "Shape before resampling\t (31, 512, 512)\n",
      "Shape after resampling\t (310, 366, 366)\n",
      "Shape before resampling\t (31, 512, 512)\n",
      "Shape after resampling\t (310, 366, 366)\n",
      "Shape before resampling\t (31, 512, 512)\n",
      "Shape after resampling\t (310, 366, 366)\n",
      "Shape before resampling\t (31, 512, 512)\n",
      "Shape after resampling\t (310, 366, 366)\n",
      "Shape before resampling\t (31, 512, 512)\n",
      "Shape after resampling\t (310, 366, 366)\n",
      "Shape before resampling\t (31, 512, 512)\n",
      "Shape after resampling\t (310, 366, 366)\n",
      "Shape before resampling\t (31, 512, 512)\n",
      "Shape after resampling\t (310, 366, 366)\n",
      "Shape before resampling\t (31, 512, 512)\n",
      "Shape after resampling\t (310, 366, 366)\n",
      "Shape before resampling\t (31, 512, 512)\n",
      "Shape after resampling\t (310, 366, 366)\n",
      "Shape before resampling\t (31, 512, 512)\n",
      "Shape after resampling\t (310, 366, 366)\n",
      "Shape before resampling\t (31, 512, 512)\n",
      "Shape after resampling\t (310, 366, 366)\n",
      "[Errno 20] Not a directory: '../masked_imgs/.DS_Store/'\n",
      "Shape before resampling\t (31, 512, 512)\n",
      "Shape after resampling\t (310, 366, 366)\n",
      "Shape before resampling\t (31, 512, 512)\n",
      "Shape after resampling\t (310, 366, 366)\n",
      "Shape before resampling\t (31, 512, 512)\n",
      "Shape after resampling\t (310, 366, 366)\n",
      "Shape before resampling\t (31, 512, 512)\n",
      "Shape after resampling\t (310, 366, 366)\n",
      "Shape before resampling\t (31, 512, 512)\n",
      "Shape after resampling\t (310, 366, 366)\n",
      "Shape before resampling\t (31, 512, 512)\n",
      "Shape after resampling\t (310, 366, 366)\n",
      "Shape before resampling\t (31, 512, 512)\n",
      "Shape after resampling\t (310, 366, 366)\n",
      "Shape before resampling\t (31, 512, 512)\n",
      "Shape after resampling\t (310, 366, 366)\n",
      "Shape before resampling\t (31, 512, 512)\n",
      "Shape after resampling\t (310, 366, 366)\n",
      "Shape before resampling\t (31, 512, 512)\n",
      "Shape after resampling\t (310, 366, 366)\n",
      "Shape before resampling\t (31, 512, 512)\n",
      "Shape after resampling\t (310, 366, 366)\n",
      "Shape before resampling\t (31, 512, 512)\n",
      "Shape after resampling\t (310, 366, 366)\n",
      "Shape before resampling\t (31, 512, 512)\n",
      "Shape after resampling\t (310, 366, 366)\n",
      "Shape before resampling\t (31, 512, 512)\n",
      "Shape after resampling\t (310, 366, 366)\n",
      "Shape before resampling\t (31, 512, 512)\n",
      "Shape after resampling\t (310, 366, 366)\n",
      "Shape before resampling\t (31, 512, 512)\n",
      "Shape after resampling\t (310, 366, 366)\n",
      "Shape before resampling\t (31, 512, 512)\n",
      "Shape after resampling\t (310, 366, 366)\n",
      "Shape before resampling\t (31, 512, 512)\n",
      "Shape after resampling\t (310, 366, 366)\n",
      "Shape before resampling\t (31, 512, 512)\n",
      "Shape after resampling\t (310, 366, 366)\n",
      "Shape before resampling\t (31, 512, 512)\n",
      "Shape after resampling\t (310, 366, 366)\n",
      "Shape before resampling\t (31, 512, 512)\n",
      "Shape after resampling\t (310, 366, 366)\n",
      "Shape before resampling\t (31, 512, 512)\n",
      "Shape after resampling\t (310, 366, 366)\n",
      "Shape before resampling\t (31, 512, 512)\n",
      "Shape after resampling\t (310, 366, 366)\n",
      "Shape before resampling\t (31, 512, 512)\n",
      "Shape after resampling\t (310, 366, 366)\n",
      "Shape before resampling\t (31, 512, 512)\n",
      "Shape after resampling\t (310, 366, 366)\n",
      "Shape before resampling\t (31, 512, 512)\n",
      "Shape after resampling\t (310, 366, 366)\n",
      "Shape before resampling\t (31, 512, 512)\n",
      "Shape after resampling\t (310, 366, 366)\n",
      "Shape before resampling\t (31, 512, 512)\n",
      "Shape after resampling\t (310, 366, 366)\n",
      "Shape before resampling\t (31, 512, 512)\n",
      "Shape after resampling\t (310, 366, 366)\n",
      "Shape before resampling\t (31, 512, 512)\n",
      "Shape after resampling\t (310, 366, 366)\n",
      "Shape before resampling\t (31, 512, 512)\n",
      "Shape after resampling\t (310, 366, 366)\n",
      "Shape before resampling\t (31, 512, 512)\n",
      "Shape after resampling\t (310, 366, 366)\n",
      "Shape before resampling\t (31, 512, 512)\n",
      "Shape after resampling\t (310, 366, 366)\n",
      "Shape before resampling\t (31, 512, 512)\n",
      "Shape after resampling\t (310, 366, 366)\n",
      "Shape before resampling\t (31, 512, 512)\n",
      "Shape after resampling\t (310, 366, 366)\n",
      "Shape before resampling\t (31, 512, 512)\n",
      "Shape after resampling\t (310, 366, 366)\n",
      "Shape before resampling\t (31, 512, 512)\n",
      "Shape after resampling\t (310, 366, 366)\n",
      "Shape before resampling\t (31, 512, 512)\n",
      "Shape after resampling\t (310, 366, 366)\n",
      "Shape before resampling\t (31, 512, 512)\n",
      "Shape after resampling\t (310, 366, 366)\n",
      "Shape before resampling\t (31, 512, 512)\n",
      "Shape after resampling\t (310, 366, 366)\n",
      "Shape before resampling\t (31, 512, 512)\n",
      "Shape after resampling\t (310, 366, 366)\n",
      "Shape before resampling\t (31, 512, 512)\n",
      "Shape after resampling\t (310, 366, 366)\n",
      "Shape before resampling\t (31, 512, 512)\n",
      "Shape after resampling\t (310, 366, 366)\n",
      "Shape before resampling\t (31, 512, 512)\n",
      "Shape after resampling\t (310, 366, 366)\n",
      "Shape before resampling\t (31, 512, 512)\n",
      "Shape after resampling\t (310, 366, 366)\n",
      "Shape before resampling\t (31, 512, 512)\n",
      "Shape after resampling\t (310, 366, 366)\n",
      "Shape before resampling\t (31, 512, 512)\n",
      "Shape after resampling\t (310, 366, 366)\n",
      "Shape before resampling\t (31, 512, 512)\n",
      "Shape after resampling\t (310, 366, 366)\n",
      "Shape before resampling\t (31, 512, 512)\n",
      "Shape after resampling\t (310, 366, 366)\n",
      "Shape before resampling\t (31, 512, 512)\n",
      "Shape after resampling\t (310, 366, 366)\n",
      "Shape before resampling\t (31, 512, 512)\n",
      "Shape after resampling\t (310, 366, 366)\n",
      "Shape before resampling\t (31, 512, 512)\n",
      "Shape after resampling\t (310, 366, 366)\n",
      "Shape before resampling\t (31, 512, 512)\n",
      "Shape after resampling\t (310, 366, 366)\n",
      "Shape before resampling\t (31, 512, 512)\n",
      "Shape after resampling\t (310, 366, 366)\n",
      "Shape before resampling\t (31, 512, 512)\n",
      "Shape after resampling\t (310, 366, 366)\n",
      "Shape before resampling\t (31, 512, 512)\n",
      "Shape after resampling\t (310, 366, 366)\n",
      "Shape before resampling\t (31, 512, 512)\n",
      "Shape after resampling\t (310, 366, 366)\n",
      "Shape before resampling\t (31, 512, 512)\n",
      "Shape after resampling\t (310, 366, 366)\n",
      "Shape before resampling\t (31, 512, 512)\n",
      "Shape after resampling\t (310, 366, 366)\n",
      "Shape before resampling\t (31, 512, 512)\n",
      "Shape after resampling\t (310, 366, 366)\n",
      "Shape before resampling\t (31, 512, 512)\n",
      "Shape after resampling\t (310, 366, 366)\n",
      "Shape before resampling\t (31, 512, 512)\n",
      "Shape after resampling\t (310, 366, 366)\n",
      "Shape before resampling\t (31, 512, 512)\n",
      "Shape after resampling\t (310, 366, 366)\n",
      "Shape before resampling\t (31, 512, 512)\n",
      "Shape after resampling\t (310, 366, 366)\n",
      "Shape before resampling\t (31, 512, 512)\n",
      "Shape after resampling\t (310, 366, 366)\n",
      "Shape before resampling\t (31, 512, 512)\n",
      "Shape after resampling\t (310, 366, 366)\n",
      "Shape before resampling\t (31, 512, 512)\n",
      "Shape after resampling\t (310, 366, 366)\n",
      "Shape before resampling\t (31, 512, 512)\n",
      "Shape after resampling\t (310, 366, 366)\n"
     ]
    },
    {
     "name": "stdout",
     "output_type": "stream",
     "text": [
      "Shape before resampling\t (31, 512, 512)\n",
      "Shape after resampling\t (310, 366, 366)\n",
      "Shape before resampling\t (31, 512, 512)\n",
      "Shape after resampling\t (310, 366, 366)\n",
      "Shape before resampling\t (31, 512, 512)\n",
      "Shape after resampling\t (310, 366, 366)\n",
      "Shape before resampling\t (31, 512, 512)\n",
      "Shape after resampling\t (310, 366, 366)\n",
      "Shape before resampling\t (31, 512, 512)\n",
      "Shape after resampling\t (310, 366, 366)\n",
      "Shape before resampling\t (31, 512, 512)\n",
      "Shape after resampling\t (310, 366, 366)\n",
      "Shape before resampling\t (31, 512, 512)\n",
      "Shape after resampling\t (310, 366, 366)\n",
      "Shape before resampling\t (31, 512, 512)\n",
      "Shape after resampling\t (310, 366, 366)\n",
      "Shape before resampling\t (31, 512, 512)\n",
      "Shape after resampling\t (310, 366, 366)\n",
      "Shape before resampling\t (31, 512, 512)\n",
      "Shape after resampling\t (310, 366, 366)\n",
      "Shape before resampling\t (31, 512, 512)\n",
      "Shape after resampling\t (310, 366, 366)\n",
      "Shape before resampling\t (31, 512, 512)\n",
      "Shape after resampling\t (310, 366, 366)\n",
      "Shape before resampling\t (31, 512, 512)\n",
      "Shape after resampling\t (310, 366, 366)\n",
      "Shape before resampling\t (31, 512, 512)\n",
      "Shape after resampling\t (310, 366, 366)\n",
      "Shape before resampling\t (31, 512, 512)\n",
      "Shape after resampling\t (310, 366, 366)\n",
      "Shape before resampling\t (31, 512, 512)\n",
      "Shape after resampling\t (310, 366, 366)\n",
      "Shape before resampling\t (31, 512, 512)\n",
      "Shape after resampling\t (310, 366, 366)\n",
      "Shape before resampling\t (31, 512, 512)\n",
      "Shape after resampling\t (310, 366, 366)\n",
      "Shape before resampling\t (31, 512, 512)\n",
      "Shape after resampling\t (310, 366, 366)\n",
      "Shape before resampling\t (31, 512, 512)\n",
      "Shape after resampling\t (310, 366, 366)\n",
      "Shape before resampling\t (31, 512, 512)\n",
      "Shape after resampling\t (310, 366, 366)\n",
      "Shape before resampling\t (31, 512, 512)\n",
      "Shape after resampling\t (310, 366, 366)\n",
      "Shape before resampling\t (31, 512, 512)\n",
      "Shape after resampling\t (310, 366, 366)\n",
      "Shape before resampling\t (31, 512, 512)\n",
      "Shape after resampling\t (310, 366, 366)\n",
      "Shape before resampling\t (31, 512, 512)\n",
      "Shape after resampling\t (310, 366, 366)\n",
      "Shape before resampling\t (31, 512, 512)\n",
      "Shape after resampling\t (310, 366, 366)\n",
      "Shape before resampling\t (31, 512, 512)\n",
      "Shape after resampling\t (310, 366, 366)\n",
      "Shape before resampling\t (31, 512, 512)\n",
      "Shape after resampling\t (310, 366, 366)\n",
      "Shape before resampling\t (31, 512, 512)\n",
      "Shape after resampling\t (310, 366, 366)\n",
      "Shape before resampling\t (31, 512, 512)\n",
      "Shape after resampling\t (310, 366, 366)\n",
      "Shape before resampling\t (31, 512, 512)\n",
      "Shape after resampling\t (310, 366, 366)\n",
      "Shape before resampling\t (31, 512, 512)\n",
      "Shape after resampling\t (310, 366, 366)\n",
      "Shape before resampling\t (31, 512, 512)\n",
      "Shape after resampling\t (310, 366, 366)\n",
      "Shape before resampling\t (31, 512, 512)\n",
      "Shape after resampling\t (310, 366, 366)\n",
      "Shape before resampling\t (31, 512, 512)\n",
      "Shape after resampling\t (310, 366, 366)\n",
      "Shape before resampling\t (31, 512, 512)\n",
      "Shape after resampling\t (310, 366, 366)\n",
      "Shape before resampling\t (31, 512, 512)\n",
      "Shape after resampling\t (310, 366, 366)\n",
      "Shape before resampling\t (31, 512, 512)\n",
      "Shape after resampling\t (310, 366, 366)\n",
      "Shape before resampling\t (31, 512, 512)\n",
      "Shape after resampling\t (310, 366, 366)\n",
      "Shape before resampling\t (31, 512, 512)\n",
      "Shape after resampling\t (310, 366, 366)\n",
      "Shape before resampling\t (31, 512, 512)\n",
      "Shape after resampling\t (310, 366, 366)\n",
      "Shape before resampling\t (31, 512, 512)\n",
      "Shape after resampling\t (310, 366, 366)\n",
      "Shape before resampling\t (31, 512, 512)\n",
      "Shape after resampling\t (310, 366, 366)\n",
      "Shape before resampling\t (31, 512, 512)\n",
      "Shape after resampling\t (310, 366, 366)\n",
      "Shape before resampling\t (31, 512, 512)\n",
      "Shape after resampling\t (310, 366, 366)\n",
      "Shape before resampling\t (31, 512, 512)\n",
      "Shape after resampling\t (310, 366, 366)\n",
      "Shape before resampling\t (31, 512, 512)\n",
      "Shape after resampling\t (310, 366, 366)\n",
      "Shape before resampling\t (31, 512, 512)\n",
      "Shape after resampling\t (310, 366, 366)\n",
      "Shape before resampling\t (31, 512, 512)\n",
      "Shape after resampling\t (310, 366, 366)\n",
      "Shape before resampling\t (31, 512, 512)\n",
      "Shape after resampling\t (310, 366, 366)\n",
      "Shape before resampling\t (31, 512, 512)\n",
      "Shape after resampling\t (310, 366, 366)\n",
      "Shape before resampling\t (31, 512, 512)\n",
      "Shape after resampling\t (310, 366, 366)\n",
      "Shape before resampling\t (31, 512, 512)\n",
      "Shape after resampling\t (310, 366, 366)\n",
      "Shape before resampling\t (31, 512, 512)\n",
      "Shape after resampling\t (310, 366, 366)\n",
      "Shape before resampling\t (31, 512, 512)\n",
      "Shape after resampling\t (310, 366, 366)\n",
      "Shape before resampling\t (31, 512, 512)\n",
      "Shape after resampling\t (310, 366, 366)\n",
      "Shape before resampling\t (31, 512, 512)\n",
      "Shape after resampling\t (310, 366, 366)\n",
      "Shape before resampling\t (31, 512, 512)\n",
      "Shape after resampling\t (310, 366, 366)\n",
      "Shape before resampling\t (31, 512, 512)\n",
      "Shape after resampling\t (310, 366, 366)\n",
      "Shape before resampling\t (31, 512, 512)\n",
      "Shape after resampling\t (310, 366, 366)\n",
      "Shape before resampling\t (31, 512, 512)\n",
      "Shape after resampling\t (310, 366, 366)\n",
      "Shape before resampling\t (31, 512, 512)\n",
      "Shape after resampling\t (310, 366, 366)\n",
      "Shape before resampling\t (31, 512, 512)\n",
      "Shape after resampling\t (310, 366, 366)\n",
      "Shape before resampling\t (31, 512, 512)\n",
      "Shape after resampling\t (310, 366, 366)\n",
      "Shape before resampling\t (31, 512, 512)\n",
      "Shape after resampling\t (310, 366, 366)\n",
      "Shape before resampling\t (31, 512, 512)\n",
      "Shape after resampling\t (310, 366, 366)\n",
      "Shape before resampling\t (31, 512, 512)\n",
      "Shape after resampling\t (310, 366, 366)\n",
      "Shape before resampling\t (31, 512, 512)\n",
      "Shape after resampling\t (310, 366, 366)\n",
      "Shape before resampling\t (31, 512, 512)\n",
      "Shape after resampling\t (310, 366, 366)\n",
      "Shape before resampling\t (31, 512, 512)\n",
      "Shape after resampling\t (310, 366, 366)\n",
      "Shape before resampling\t (31, 512, 512)\n",
      "Shape after resampling\t (310, 366, 366)\n",
      "Shape before resampling\t (31, 512, 512)\n",
      "Shape after resampling\t (310, 366, 366)\n",
      "Shape before resampling\t (31, 512, 512)\n",
      "Shape after resampling\t (310, 366, 366)\n",
      "Shape before resampling\t (31, 512, 512)\n",
      "Shape after resampling\t (310, 366, 366)\n",
      "Shape before resampling\t (31, 512, 512)\n",
      "Shape after resampling\t (310, 366, 366)\n"
     ]
    }
   ],
   "source": [
    "for patient_id in patients_to_process:\n",
    "    try:\n",
    "        patient = load_scan(data_path + patient_id + \"/\")\n",
    "        patient_path = hu_images + patient_id + \"/\"\n",
    "    #     hu_img = os.listdir(patient_path)[0]\n",
    "    #     filename = patient_path + hu_img\n",
    "    #     imgs_to_process = np.load(filename)\n",
    "        imgs_to_process = get_pixels_hu(patient)\n",
    "        print(\"Shape before resampling\\t\", imgs_to_process.shape)\n",
    "        imgs_after_resamp, spacing = resample(imgs_to_process, patient, [1,1,1])\n",
    "        print(\"Shape after resampling\\t\", imgs_after_resamp.shape)\n",
    "        masked_lung = []\n",
    "        for img in imgs_after_resamp:\n",
    "            masked_lung.append(make_lungmask(img))\n",
    "        masked_lung = np.array(masked_lung)\n",
    "        output_dir = \"../masked_imgs/\" + patient_id + \"/\"\n",
    "        if not os.path.exists(output_dir):\n",
    "            os.makedirs(output_dir)\n",
    "        np.save(output_dir + \"masked_lung.npy\", masked_lung)\n",
    "    except Exception as e: \n",
    "        print(e)\n",
    "        failed_to_process.append(id_num)"
   ]
  },
  {
   "cell_type": "code",
   "execution_count": 112,
   "metadata": {},
   "outputs": [],
   "source": [
    "mask_path = '../masked_imgs'\n",
    "\n",
    "patients = os.listdir(mask_path)\n",
    "patients.remove(\".DS_Store\")"
   ]
  },
  {
   "cell_type": "code",
   "execution_count": 116,
   "metadata": {},
   "outputs": [
    {
     "data": {
      "text/plain": [
       "['ID00296637202279895784347',\n",
       " 'ID00032637202181710233084',\n",
       " 'ID00061637202188184085559',\n",
       " 'ID00232637202260377586117',\n",
       " 'ID00322637202284842245491',\n",
       " 'ID00329637202285906759848',\n",
       " 'ID00027637202179689871102',\n",
       " 'ID00011637202177653955184',\n",
       " 'ID00042637202184406822975',\n",
       " 'ID00086637202203494931510',\n",
       " 'ID00023637202179104603099',\n",
       " 'ID00235637202261451839085',\n",
       " 'ID00168637202237852027833',\n",
       " 'ID00078637202199415319443',\n",
       " 'ID00331637202286306023714',\n",
       " 'ID00312637202282607344793',\n",
       " 'ID00283637202278714365037',\n",
       " 'ID00365637202296085035729',\n",
       " 'ID00414637202310318891556',\n",
       " 'ID00267637202270790561585',\n",
       " 'ID00400637202305055099402',\n",
       " 'ID00076637202199015035026',\n",
       " 'ID00173637202238329754031',\n",
       " 'ID00192637202245493238298',\n",
       " 'ID00364637202296074419422',\n",
       " 'ID00180637202240177410333',\n",
       " 'ID00132637202222178761324',\n",
       " 'ID00048637202185016727717',\n",
       " 'ID00407637202308788732304',\n",
       " 'ID00426637202313170790466',\n",
       " 'ID00167637202237397919352',\n",
       " 'ID00136637202224951350618',\n",
       " 'ID00305637202281772703145',\n",
       " 'ID00291637202279398396106',\n",
       " 'ID00298637202280361773446',\n",
       " 'ID00393637202302431697467',\n",
       " 'ID00051637202185848464638',\n",
       " 'ID00129637202219868188000',\n",
       " 'ID00184637202242062969203',\n",
       " 'ID00068637202190879923934',\n",
       " 'ID00014637202177757139317',\n",
       " 'ID00093637202205278167493',\n",
       " 'ID00376637202297677828573',\n",
       " 'ID00047637202184938901501',\n",
       " 'ID00052637202186188008618',\n",
       " 'ID00117637202212360228007',\n",
       " 'ID00317637202283194142136',\n",
       " 'ID00299637202280383305867',\n",
       " 'ID00104637202208063407045',\n",
       " 'ID00138637202231603868088',\n",
       " 'ID00122637202216437668965',\n",
       " 'ID00417637202310901214011',\n",
       " 'ID00111637202210956877205',\n",
       " 'ID00337637202286839091062',\n",
       " 'ID00367637202296290303449',\n",
       " 'ID00139637202231703564336',\n",
       " 'ID00186637202242472088675',\n",
       " 'ID00202637202249376026949',\n",
       " 'ID00199637202248141386743',\n",
       " 'ID00172637202238316925179',\n",
       " 'ID00219637202258203123958',\n",
       " 'ID00228637202259965313869',\n",
       " 'ID00161637202235731948764',\n",
       " 'ID00344637202287684217717',\n",
       " 'ID00371637202296828615743',\n",
       " 'ID00335637202286784464927',\n",
       " 'ID00419637202311204720264',\n",
       " 'ID00134637202223873059688',\n",
       " 'ID00169637202238024117706',\n",
       " 'ID00401637202305320178010',\n",
       " 'ID00307637202282126172865',\n",
       " 'ID00207637202252526380974',\n",
       " 'ID00216637202257988213445',\n",
       " 'ID00102637202206574119190',\n",
       " 'ID00126637202218610655908',\n",
       " 'ID00019637202178323708467',\n",
       " 'ID00249637202266730854017',\n",
       " 'ID00241637202264294508775',\n",
       " 'ID00423637202312137826377',\n",
       " 'ID00381637202299644114027',\n",
       " 'ID00062637202188654068490',\n",
       " 'ID00351637202289476567312',\n",
       " 'ID00233637202260580149633',\n",
       " 'ID00392637202302319160044',\n",
       " 'ID00275637202271440119890',\n",
       " 'ID00358637202295388077032',\n",
       " 'ID00072637202198161894406',\n",
       " 'ID00323637202285211956970',\n",
       " 'ID00378637202298597306391',\n",
       " 'ID00094637202205333947361',\n",
       " 'ID00279637202272164826258',\n",
       " 'ID00360637202295712204040',\n",
       " 'ID00240637202264138860065',\n",
       " 'ID00077637202199102000916',\n",
       " 'ID00115637202211874187958',\n",
       " 'ID00383637202300493233675',\n",
       " 'ID00355637202295106567614',\n",
       " 'ID00405637202308359492977',\n",
       " 'ID00015637202177877247924',\n",
       " 'ID00025637202179541264076',\n",
       " 'ID00089637202204675567570',\n",
       " 'ID00221637202258717315571',\n",
       " 'ID00197637202246865691526',\n",
       " 'ID00125637202218590429387',\n",
       " 'ID00135637202224630271439',\n",
       " 'ID00342637202287526592911',\n",
       " 'ID00251637202267455595113',\n",
       " 'ID00336637202286801879145',\n",
       " 'ID00210637202257228694086',\n",
       " 'ID00128637202219474716089',\n",
       " 'ID00339637202287377736231',\n",
       " 'ID00224637202259281193413',\n",
       " 'ID00242637202264759739921',\n",
       " 'ID00343637202287577133798',\n",
       " 'ID00130637202220059448013',\n",
       " 'ID00123637202217151272140',\n",
       " 'ID00218637202258156844710',\n",
       " 'ID00225637202259339837603',\n",
       " 'ID00294637202279614924243',\n",
       " 'ID00341637202287410878488',\n",
       " 'ID00222637202259066229764',\n",
       " 'ID00422637202311677017371',\n",
       " 'ID00105637202208831864134',\n",
       " 'ID00038637202182690843176',\n",
       " 'ID00012637202177665765362',\n",
       " 'ID00264637202270643353440',\n",
       " 'ID00149637202232704462834',\n",
       " 'ID00026637202179561894768',\n",
       " 'ID00060637202187965290703',\n",
       " 'ID00229637202260254240583',\n",
       " 'ID00140637202231728595149',\n",
       " 'ID00007637202177411956430',\n",
       " 'ID00020637202178344345685',\n",
       " 'ID00370637202296737666151',\n",
       " 'ID00309637202282195513787',\n",
       " 'ID00248637202266698862378',\n",
       " 'ID00131637202220424084844',\n",
       " 'ID00288637202279148973731',\n",
       " 'ID00368637202296470751086',\n",
       " 'ID00109637202210454292264',\n",
       " 'ID00290637202279304677843',\n",
       " 'ID00010637202177584971671',\n",
       " 'ID00183637202241995351650',\n",
       " 'ID00035637202182204917484',\n",
       " 'ID00234637202261078001846',\n",
       " 'ID00082637202201836229724',\n",
       " 'ID00213637202257692916109',\n",
       " 'ID00127637202219096738943',\n",
       " 'ID00273637202271319294586',\n",
       " 'ID00099637202206203080121',\n",
       " 'ID00411637202309374271828',\n",
       " 'ID00398637202303897337979',\n",
       " 'ID00421637202311550012437',\n",
       " 'ID00190637202244450116191',\n",
       " 'ID00276637202271694539978',\n",
       " 'ID00110637202210673668310',\n",
       " 'ID00255637202267923028520',\n",
       " 'ID00075637202198610425520',\n",
       " 'ID00340637202287399835821',\n",
       " 'ID00133637202223847701934',\n",
       " 'ID00090637202204766623410',\n",
       " 'ID00408637202308839708961',\n",
       " 'ID00073637202198167792918',\n",
       " 'ID00030637202181211009029',\n",
       " 'ID00388637202301028491611',\n",
       " 'ID00124637202217596410344',\n",
       " 'ID00165637202237320314458',\n",
       " 'ID00119637202215426335765',\n",
       " 'ID00170637202238079193844',\n",
       " 'ID00319637202283897208687',\n",
       " 'ID00196637202246668775836',\n",
       " 'ID00285637202278913507108',\n",
       " 'ID00067637202189903532242',\n",
       " 'ID00214637202257820847190',\n",
       " 'ID00009637202177434476278',\n",
       " 'ID00108637202209619669361']"
      ]
     },
     "execution_count": 116,
     "metadata": {},
     "output_type": "execute_result"
    }
   ],
   "source": [
    "patients"
   ]
  },
  {
   "cell_type": "code",
   "execution_count": 118,
   "metadata": {},
   "outputs": [],
   "source": [
    "imgs = []\n",
    "for patient in patients:\n",
    "    img_path = \"../masked_imgs/\" + patient + \"/\"\n",
    "    imgs.append(np.load(img_path + 'masked_lung.npy'))"
   ]
  },
  {
   "cell_type": "code",
   "execution_count": 119,
   "metadata": {},
   "outputs": [],
   "source": [
    "imgs = np.array(imgs)"
   ]
  },
  {
   "cell_type": "code",
   "execution_count": 121,
   "metadata": {
    "scrolled": true
   },
   "outputs": [
    {
     "data": {
      "text/plain": [
       "<matplotlib.image.AxesImage at 0x7f95d0534150>"
      ]
     },
     "execution_count": 121,
     "metadata": {},
     "output_type": "execute_result"
    },
    {
     "data": {
      "image/png": "[encoded data removed]",
      "text/plain": [
       "<Figure size 432x288 with 1 Axes>"
      ]
     },
     "metadata": {
      "needs_background": "light"
     },
     "output_type": "display_data"
    }
   ],
   "source": [
    "plt.imshow(imgs[0][200,:,:])"
   ]
  },
  {
   "cell_type": "code",
   "execution_count": 164,
   "metadata": {},
   "outputs": [
    {
     "data": {
      "text/plain": [
       "<matplotlib.image.AxesImage at 0x7f95b8c19ad0>"
      ]
     },
     "execution_count": 164,
     "metadata": {},
     "output_type": "execute_result"
    },
    {
     "data": {
      "image/png": "[encoded data removed]",
      "text/plain": [
       "<Figure size 432x288 with 1 Axes>"
      ]
     },
     "metadata": {
      "needs_background": "light"
     },
     "output_type": "display_data"
    }
   ],
   "source": [
    "plt.imshow(imgs[0][100,:,:])"
   ]
  },
  {
   "cell_type": "code",
   "execution_count": 127,
   "metadata": {},
   "outputs": [
    {
     "data": {
      "text/plain": [
       "(310, 366, 366)"
      ]
     },
     "execution_count": 127,
     "metadata": {},
     "output_type": "execute_result"
    }
   ],
   "source": [
    "imgs[0].shape"
   ]
  },
  {
   "cell_type": "code",
   "execution_count": 122,
   "metadata": {},
   "outputs": [],
   "source": [
    "from skimage.transform import resize"
   ]
  },
  {
   "cell_type": "code",
   "execution_count": 132,
   "metadata": {},
   "outputs": [],
   "source": [
    "update_imgs=[]"
   ]
  },
  {
   "cell_type": "code",
   "execution_count": 134,
   "metadata": {},
   "outputs": [],
   "source": [
    "for i in range(imgs.shape[0]):\n",
    "    update_imgs.append(resize(imgs[i],(200, 200, 200),anti_aliasing=True))"
   ]
  },
  {
   "cell_type": "code",
   "execution_count": 136,
   "metadata": {},
   "outputs": [],
   "source": [
    "update_imgs = np.array(update_imgs)"
   ]
  },
  {
   "cell_type": "code",
   "execution_count": 165,
   "metadata": {},
   "outputs": [
    {
     "data": {
      "text/plain": [
       "(176, 200, 200, 200)"
      ]
     },
     "execution_count": 165,
     "metadata": {},
     "output_type": "execute_result"
    }
   ],
   "source": [
    "update_imgs.shape"
   ]
  },
  {
   "cell_type": "code",
   "execution_count": 218,
   "metadata": {},
   "outputs": [],
   "source": [
    "train = []\n",
    "for j in range(update_imgs.shape[0]-1):\n",
    "    for i in range(update_imgs[j].shape[2]):\n",
    "        if (update_imgs[j][i,:,:] == np.zeros((200,200))).all():\n",
    "            continue\n",
    "        else:\n",
    "            train.append(update_imgs[j][i,:,:].reshape(-1))\n",
    "train = np.array(train)"
   ]
  },
  {
   "cell_type": "code",
   "execution_count": 219,
   "metadata": {},
   "outputs": [],
   "source": [
    "test = []\n",
    "for i in range(update_imgs[-1].shape[2]):\n",
    "    if (update_imgs[-1][i,:,:] == np.zeros((200,200))).all():\n",
    "        continue\n",
    "    else:\n",
    "        test.append(update_imgs[-1][i,:,:].reshape(-1))\n",
    "test = np.array(test)"
   ]
  },
  {
   "cell_type": "code",
   "execution_count": 220,
   "metadata": {
    "scrolled": true
   },
   "outputs": [
    {
     "data": {
      "text/plain": [
       "(35000, 40000)"
      ]
     },
     "execution_count": 220,
     "metadata": {},
     "output_type": "execute_result"
    }
   ],
   "source": [
    "train.shape"
   ]
  },
  {
   "cell_type": "code",
   "execution_count": 221,
   "metadata": {},
   "outputs": [],
   "source": [
    "train_labels = np.random.randn(train.shape[0])"
   ]
  },
  {
   "cell_type": "code",
   "execution_count": 222,
   "metadata": {},
   "outputs": [
    {
     "data": {
      "text/plain": [
       "(35000,)"
      ]
     },
     "execution_count": 222,
     "metadata": {},
     "output_type": "execute_result"
    }
   ],
   "source": [
    "train_labels.shape"
   ]
  },
  {
   "cell_type": "code",
   "execution_count": 223,
   "metadata": {},
   "outputs": [
    {
     "data": {
      "text/plain": [
       "(200, 40000)"
      ]
     },
     "execution_count": 223,
     "metadata": {},
     "output_type": "execute_result"
    }
   ],
   "source": [
    "test.shape"
   ]
  },
  {
   "cell_type": "code",
   "execution_count": 224,
   "metadata": {},
   "outputs": [
    {
     "data": {
      "text/plain": [
       "array([ 0.33525676,  0.33381944, -0.15027212, ..., -1.38399584,\n",
       "       -0.20179435,  0.60745533])"
      ]
     },
     "execution_count": 224,
     "metadata": {},
     "output_type": "execute_result"
    }
   ],
   "source": [
    "train_labels"
   ]
  },
  {
   "cell_type": "code",
   "execution_count": 225,
   "metadata": {},
   "outputs": [],
   "source": [
    "test_labels = np.random.randn(test.shape[0])"
   ]
  },
  {
   "cell_type": "code",
   "execution_count": 226,
   "metadata": {},
   "outputs": [
    {
     "data": {
      "text/plain": [
       "(200,)"
      ]
     },
     "execution_count": 226,
     "metadata": {},
     "output_type": "execute_result"
    }
   ],
   "source": [
    "test_labels.shape"
   ]
  },
  {
   "cell_type": "code",
   "execution_count": 227,
   "metadata": {
    "scrolled": true
   },
   "outputs": [
    {
     "data": {
      "text/plain": [
       "array([-1.39578316, -0.15350443,  2.62935369, -0.68664075,  0.61926918,\n",
       "        1.18540383,  1.55488394,  1.12267874, -2.07509042, -2.20125654,\n",
       "        0.18628452,  1.45490615, -0.17384177,  0.78387586, -0.52188911,\n",
       "        0.43547193, -0.31468887, -1.12886524,  0.36063031,  0.26566429,\n",
       "       -0.04411909,  0.03336947,  1.492859  , -3.180634  , -0.16019868,\n",
       "       -0.7109228 ,  0.54970758,  0.51836705,  1.0507499 , -0.90736015,\n",
       "        0.20557204, -0.35163554, -0.60919559,  1.20701371, -0.55466219,\n",
       "        1.39126375, -1.18904811, -2.22925536,  0.98411151,  0.59000908,\n",
       "        1.33343034,  0.8821338 ,  2.22685429,  0.74807841, -0.79895074,\n",
       "       -0.68929542,  0.88244573, -0.56246698,  0.3213965 ,  0.50729899,\n",
       "       -0.46933205,  0.95372838, -0.81321063,  1.56450361,  1.44723127,\n",
       "       -1.05132084, -0.19325777, -0.00768354, -1.56696986, -0.20096368,\n",
       "        0.21789609,  0.32006366,  0.22976198,  1.17489757, -0.27702848,\n",
       "        0.53451748, -1.1919376 , -0.87248838,  0.38082602, -1.21643989,\n",
       "       -0.48751972,  1.0409012 ,  1.00864047, -0.02911121, -0.92456794,\n",
       "        0.53106734, -0.52374199, -1.6721438 , -0.76137361,  0.79048167,\n",
       "       -0.3659575 ,  0.61741736,  0.77194568,  1.06348486, -0.86212156,\n",
       "        1.28486175,  0.74949962,  0.35477245, -0.559526  , -0.03160094,\n",
       "       -1.5442916 , -1.22465456,  0.1698053 ,  0.26581677, -0.48936628,\n",
       "        0.14661379, -0.04248257,  0.75315331, -0.01124472,  0.14606253,\n",
       "       -0.33545788,  0.20382391, -0.38926608,  0.14555242, -1.29587758,\n",
       "       -0.96225795,  2.21328055,  0.15577112, -0.70061886, -1.13129255,\n",
       "        0.64781019, -0.16037115, -1.58994656, -0.43134686,  0.72645445,\n",
       "        0.18614907, -0.2637028 ,  1.07960977,  0.65818048,  0.56664003,\n",
       "        0.262061  ,  2.18275737, -0.34238543, -0.7440423 , -1.62961684,\n",
       "       -0.72398278, -0.50158869, -0.42729732, -0.52482521,  0.19291629,\n",
       "        0.69852023,  0.03161676,  0.28907163, -0.98696104,  1.75512519,\n",
       "       -1.23111672,  0.5427454 ,  0.83272389, -1.07664639,  0.20145592,\n",
       "       -0.28751807, -0.76306748,  0.01929933, -0.0765132 , -2.01280481,\n",
       "        1.05247009,  0.70899257,  0.88097814, -1.3649506 ,  0.3405979 ,\n",
       "       -0.43652227,  0.01767953,  0.65601772, -0.66058948,  0.12247836,\n",
       "       -0.52897567,  1.56919087, -1.24146784, -2.33975252, -0.31745821,\n",
       "        0.71584316,  1.48768601, -0.63374195,  0.94084807, -0.28090242,\n",
       "       -1.63220984, -1.77029399, -1.02005712,  0.20752725,  1.48822816,\n",
       "       -0.50406978,  2.03045598,  0.77010256,  0.53723609, -0.53288332,\n",
       "        0.54569667, -1.46721609, -0.20639181,  0.73759078,  0.75709571,\n",
       "        1.20913365, -0.37112993, -0.01343845, -0.66083973,  0.76022085,\n",
       "       -1.13555194,  0.54337003, -0.81645242,  1.2634757 ,  0.99438019,\n",
       "       -0.77297101, -0.62313549, -2.2337663 , -1.12500488, -0.56802599,\n",
       "        0.62946944,  0.77740788,  0.21721746, -1.64084603, -1.06112743])"
      ]
     },
     "execution_count": 227,
     "metadata": {},
     "output_type": "execute_result"
    }
   ],
   "source": [
    "test_labels"
   ]
  },
  {
   "cell_type": "code",
   "execution_count": 228,
   "metadata": {
    "scrolled": true
   },
   "outputs": [
    {
     "data": {
      "text/plain": [
       "<matplotlib.image.AxesImage at 0x7f95d1144150>"
      ]
     },
     "execution_count": 228,
     "metadata": {},
     "output_type": "execute_result"
    },
    {
     "data": {
      "image/png": "[encoded data removed]",
      "text/plain": [
       "<Figure size 432x288 with 1 Axes>"
      ]
     },
     "metadata": {
      "needs_background": "light"
     },
     "output_type": "display_data"
    }
   ],
   "source": [
    "plt.imshow(train[100].reshape(200,200))"
   ]
  },
  {
   "cell_type": "code",
   "execution_count": 229,
   "metadata": {},
   "outputs": [
    {
     "data": {
      "text/plain": [
       "<matplotlib.image.AxesImage at 0x7f958047cc10>"
      ]
     },
     "execution_count": 229,
     "metadata": {},
     "output_type": "execute_result"
    },
    {
     "data": {
      "image/png": "[encoded data removed]",
      "text/plain": [
       "<Figure size 432x288 with 1 Axes>"
      ]
     },
     "metadata": {
      "needs_background": "light"
     },
     "output_type": "display_data"
    }
   ],
   "source": [
    "plt.imshow(test[50].reshape(200,200))"
   ]
  },
  {
   "cell_type": "code",
   "execution_count": 230,
   "metadata": {},
   "outputs": [],
   "source": [
    "from sklearn.svm import SVR"
   ]
  },
  {
   "cell_type": "code",
   "execution_count": 231,
   "metadata": {},
   "outputs": [],
   "source": [
    "clf = SVR()"
   ]
  },
  {
   "cell_type": "code",
   "execution_count": null,
   "metadata": {},
   "outputs": [],
   "source": [
    "clf.fit(train, train_labels)"
   ]
  },
  {
   "cell_type": "code",
   "execution_count": null,
   "metadata": {},
   "outputs": [],
   "source": [
    "#clf.predict(test)"
   ]
  }
 ],
 "metadata": {
  "kernelspec": {
   "display_name": "Python 3",
   "language": "python",
   "name": "python3"
  },
  "language_info": {
   "codemirror_mode": {
    "name": "ipython",
    "version": 3
   },
   "file_extension": ".py",
   "mimetype": "text/x-python",
   "name": "python",
   "nbconvert_exporter": "python",
   "pygments_lexer": "ipython3",
   "version": "3.7.6"
  }
 },
 "nbformat": 4,
 "nbformat_minor": 4
}
